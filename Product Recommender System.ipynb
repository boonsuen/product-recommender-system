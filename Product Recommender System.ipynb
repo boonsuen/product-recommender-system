{
 "cells": [
  {
   "cell_type": "markdown",
   "id": "76dcc058",
   "metadata": {},
   "source": [
    "# Product Recommender System\n",
    "- **Module 1**: Simple Recommender System (Chai Wei Qi)\n",
    "- **Module 2**: Content-Based Filtering Recommender System (Oh Boon Suen)\n",
    "- **Module 3**: Collaborative Filtering Recommender System (Tan Cherng Ming)\n",
    "\n",
    "The project is using datasets of Amazon electronic products.<br>\n",
    "Source: https://cseweb.ucsd.edu/~jmcauley/datasets/amazon_v2/ "
   ]
  },
  {
   "cell_type": "markdown",
   "id": "32f03ff9",
   "metadata": {},
   "source": [
    "## Importing Libraries"
   ]
  },
  {
   "cell_type": "code",
   "execution_count": null,
   "id": "b978cc7e",
   "metadata": {
    "tags": []
   },
   "outputs": [],
   "source": [
    "# Import library to be used in the project\n",
    "import pandas as pd\n",
    "import numpy as np\n",
    "import html\n",
    "import matplotlib.pyplot as plt\n",
    "from sklearn.feature_extraction.text import CountVectorizer\n",
    "from sklearn.feature_extraction.text import TfidfVectorizer\n",
    "from sklearn.metrics.pairwise import cosine_similarity\n",
    "from sklearn.metrics.pairwise import linear_kernel\n",
    "import seaborn as sns\n",
    "import re\n",
    "import warnings\n",
    "warnings.filterwarnings('ignore')"
   ]
  },
  {
   "cell_type": "markdown",
   "id": "89e5560c",
   "metadata": {},
   "source": [
    "## Importing Dataset\n",
    "\n",
    "1. electronic_products.json \n",
    "2. user_ratings.csv"
   ]
  },
  {
   "cell_type": "code",
   "execution_count": null,
   "id": "16a14f4f",
   "metadata": {},
   "outputs": [],
   "source": [
    "# Read the electronic products file\n",
    "products_dataset_path = 'dataset/electronic_products.json'\n",
    "global_products = pd.read_json(products_dataset_path, lines=True)\n",
    "\n",
    "# Read the ratings file\n",
    "ratings_dataset_path = 'dataset/user_ratings.csv'\n",
    "global_ratings = pd.read_csv(ratings_dataset_path, names=['user_id', 'product_id','rating','timestamp'], index_col=False)"
   ]
  },
  {
   "cell_type": "markdown",
   "id": "19ac7aaf",
   "metadata": {
    "tags": []
   },
   "source": [
    "# Simple Recommender System\n",
    "Done by Chai Wei Qi"
   ]
  },
  {
   "cell_type": "markdown",
   "id": "781018d6",
   "metadata": {
    "tags": [],
    "toc-hr-collapsed": true
   },
   "source": [
    "## 2. File Reading and Features Engineering: products"
   ]
  },
  {
   "cell_type": "code",
   "execution_count": null,
   "id": "37187598",
   "metadata": {},
   "outputs": [],
   "source": [
    "# Read the electronic products file\n",
    "products = global_products\n",
    "\n",
    "# Output the first 10 rows\n",
    "products.head(10)"
   ]
  },
  {
   "cell_type": "code",
   "execution_count": null,
   "id": "962d0275",
   "metadata": {},
   "outputs": [],
   "source": [
    "print(products.shape)\n",
    "# output: (rows, columns)"
   ]
  },
  {
   "cell_type": "code",
   "execution_count": null,
   "id": "dfd56050",
   "metadata": {},
   "outputs": [],
   "source": [
    "# retrieving column name\n",
    "products.columns"
   ]
  },
  {
   "cell_type": "markdown",
   "id": "7dc27e3d",
   "metadata": {},
   "source": [
    "### 2.1 General Cleansing\n",
    "\n",
    "#### 2.1.1 Drop Unnecessary columns"
   ]
  },
  {
   "cell_type": "code",
   "execution_count": null,
   "id": "7900d1df",
   "metadata": {},
   "outputs": [],
   "source": [
    "# keep: asin, title, brand, main_cat, and price (some columns are for filtering usage)\n",
    "products = products.drop(columns=['category', 'tech1', 'description', 'fit', 'also_buy', 'tech2',\n",
    "       'feature', 'rank', 'also_view', 'similar_item', 'date', 'imageURL', 'imageURLHighRes', 'details'], errors='ignore')\n",
    "\n",
    "products.columns"
   ]
  },
  {
   "cell_type": "code",
   "execution_count": null,
   "id": "f94b5131",
   "metadata": {},
   "outputs": [],
   "source": [
    "products = products[['asin', 'title', 'brand', 'price', 'main_cat']]\n",
    "products.columns = ['product_id', 'product_name', 'brand_or_author', 'price', 'main_category']"
   ]
  },
  {
   "cell_type": "code",
   "execution_count": null,
   "id": "1c48ba43",
   "metadata": {},
   "outputs": [],
   "source": [
    "products.head(10)"
   ]
  },
  {
   "cell_type": "markdown",
   "id": "e53c2c1f",
   "metadata": {},
   "source": [
    "#### 2.1.2 Remove Duplicates"
   ]
  },
  {
   "cell_type": "code",
   "execution_count": null,
   "id": "50f33404",
   "metadata": {},
   "outputs": [],
   "source": [
    "products.shape"
   ]
  },
  {
   "cell_type": "code",
   "execution_count": null,
   "id": "e202b3e6",
   "metadata": {},
   "outputs": [],
   "source": [
    "products.duplicated().sum()"
   ]
  },
  {
   "cell_type": "code",
   "execution_count": null,
   "id": "d1035959",
   "metadata": {},
   "outputs": [],
   "source": [
    "products = products.drop_duplicates()\n",
    "\n",
    "products.shape"
   ]
  },
  {
   "cell_type": "markdown",
   "id": "6a99111c",
   "metadata": {},
   "source": [
    "#### 2.1.3 Format Strings"
   ]
  },
  {
   "cell_type": "code",
   "execution_count": null,
   "id": "8716e093",
   "metadata": {},
   "outputs": [],
   "source": [
    "# Defining text cleaning function\n",
    "\n",
    "def text_cleaning(text):\n",
    "    # 1. convert any HTML entities in the text to their corresponding characters\n",
    "    # e.g. &amp; to &, &quot; to \", &reg; to ®\n",
    "    text = html.unescape(text)\n",
    "    \n",
    "    # 2. convert to lower case\n",
    "    return text.lower()\n",
    "\n",
    "text = \"&amp; &quot &reg;\"\n",
    "cleaned_text = text_cleaning(text)\n",
    "print(cleaned_text)"
   ]
  },
  {
   "cell_type": "code",
   "execution_count": null,
   "id": "bcd737d9",
   "metadata": {},
   "outputs": [],
   "source": [
    "# List of columns to be cleaned\n",
    "cols_to_clean = ['product_name', 'brand_or_author', 'price', 'main_category']\n",
    "\n",
    "# Apply the text cleaning function to each column\n",
    "for col in cols_to_clean:\n",
    "    products[col] = products[col].apply(lambda x: text_cleaning(x))"
   ]
  },
  {
   "cell_type": "code",
   "execution_count": null,
   "id": "61dfed8f",
   "metadata": {},
   "outputs": [],
   "source": [
    "products"
   ]
  },
  {
   "cell_type": "markdown",
   "id": "8acfb676",
   "metadata": {},
   "source": [
    "### 2.2 Cleaning 'main_category' column"
   ]
  },
  {
   "cell_type": "code",
   "execution_count": null,
   "id": "7b6e1d35",
   "metadata": {},
   "outputs": [],
   "source": [
    "main_category_df = products.groupby('main_category').size().reset_index(name='count')\n",
    "main_category_df"
   ]
  },
  {
   "cell_type": "code",
   "execution_count": null,
   "id": "049ddeba",
   "metadata": {},
   "outputs": [],
   "source": [
    "# The four image HTML elements are actually belongs to 'amazon fashion'\n",
    "for i in (main_category_df.loc[0:3, 'main_category']):\n",
    "    print(i)\n",
    "\n",
    "# There are total 169 products for amazon fashion\n",
    "total_af = {'main_category': 'Total', 'count': len(products.loc[products['main_category'].str.contains('amazon fashion')])}\n",
    "main_category_df.loc[main_category_df['main_category'].str.contains('amazon fashion')].append(total_af, ignore_index=True)"
   ]
  },
  {
   "cell_type": "code",
   "execution_count": null,
   "id": "8a902bcd",
   "metadata": {},
   "outputs": [],
   "source": [
    "# assign the four image HTML elements to 'amazon fashion' in main_category_df data frame\n",
    "main_category_df.loc[main_category_df['main_category'].str.contains('amazon fashion'), 'main_category'] = 'amazon fashion'\n",
    "\n",
    "main_category_df.groupby('main_category').sum()"
   ]
  },
  {
   "cell_type": "code",
   "execution_count": null,
   "id": "b6b64629",
   "metadata": {},
   "outputs": [],
   "source": [
    "# assign the four image HTML elements to 'amazon fashion' in products data frame\n",
    "products.loc[products['main_category'].str.contains('amazon fashion'), 'main_category'] = 'amazon fashion'\n",
    "\n",
    "products.groupby('main_category').size().reset_index(name='count')"
   ]
  },
  {
   "cell_type": "markdown",
   "id": "b22ae65f",
   "metadata": {},
   "source": [
    "### 2.3 Cleaning 'brand_or_author' column"
   ]
  },
  {
   "cell_type": "code",
   "execution_count": null,
   "id": "8c90b534",
   "metadata": {},
   "outputs": [],
   "source": [
    "# The visit amazon's .... page pattern is actually the author.\n",
    "pattern = \"^visit amazon's (.*) page$\"\n",
    "mask = products['brand_or_author'].str.contains(pattern)\n",
    "selected_columns = ['brand_or_author', 'main_category']\n",
    "visit_amazon_pattern = products.loc[mask, selected_columns]\n",
    "\n",
    "visit_amazon_pattern"
   ]
  },
  {
   "cell_type": "code",
   "execution_count": null,
   "id": "d17f0ad4",
   "metadata": {},
   "outputs": [],
   "source": [
    "visit_amazon_pattern.groupby('main_category').size().reset_index(name='count')"
   ]
  },
  {
   "cell_type": "code",
   "execution_count": null,
   "id": "1e22b221",
   "metadata": {},
   "outputs": [],
   "source": [
    "# Clean the brand or author column\n",
    "def clean_author_string(author_string):\n",
    "    author_string = author_string.replace(\"visit amazon's \", \"\")\n",
    "    author_string = author_string.replace(\" page\", \"\")\n",
    "    return author_string\n",
    "\n",
    "products['brand_or_author'] = products['brand_or_author'].apply(clean_author_string)"
   ]
  },
  {
   "cell_type": "code",
   "execution_count": null,
   "id": "d14b6bee",
   "metadata": {},
   "outputs": [],
   "source": [
    "# result\n",
    "products.head(10)"
   ]
  },
  {
   "cell_type": "markdown",
   "id": "529b22a9",
   "metadata": {},
   "source": [
    "### 2.4 Cleaning 'price' column"
   ]
  },
  {
   "cell_type": "code",
   "execution_count": null,
   "id": "b89aed94",
   "metadata": {},
   "outputs": [],
   "source": [
    "dirty_price_df = products[~products['price'].str.contains('^\\$')]\n",
    "\n",
    "dirty_price_type_df = dirty_price_df.groupby('price').size().reset_index(name='count')\n",
    "dirty_price_type_df"
   ]
  },
  {
   "cell_type": "code",
   "execution_count": null,
   "id": "d8a69ed5",
   "metadata": {},
   "outputs": [],
   "source": [
    "for i in (dirty_price_type_df.loc[1:6, 'price']):\n",
    "    print(i)"
   ]
  },
  {
   "cell_type": "code",
   "execution_count": null,
   "id": "b3002fdc",
   "metadata": {},
   "outputs": [],
   "source": [
    "# Since all the dirty price data have no price information (are all css or html code)\n",
    "# We can set them all to '0'\n",
    "def clean_price_string (price_string):\n",
    "    if price_string.startswith('$'):\n",
    "        price_string = price_string.replace('$', '')\n",
    "    else:\n",
    "        price_string = '0'\n",
    "    try:\n",
    "        price_float = float(price_string)\n",
    "    except ValueError:\n",
    "        price_float = 0.0\n",
    "    return price_float\n",
    "\n",
    "products['price'] = products['price'].apply(clean_price_string)"
   ]
  },
  {
   "cell_type": "code",
   "execution_count": null,
   "id": "7f0e20fd",
   "metadata": {},
   "outputs": [],
   "source": [
    "# result\n",
    "products.head(10)"
   ]
  },
  {
   "cell_type": "markdown",
   "id": "6afc4678",
   "metadata": {},
   "source": [
    "## 3. File Reading and Features Engineering: ratings"
   ]
  },
  {
   "cell_type": "code",
   "execution_count": null,
   "id": "0730dcda",
   "metadata": {},
   "outputs": [],
   "source": [
    "# Read the ratings file\n",
    "ratings = global_ratings"
   ]
  },
  {
   "cell_type": "code",
   "execution_count": null,
   "id": "4f411937",
   "metadata": {},
   "outputs": [],
   "source": [
    "# Output the first 10 rows\n",
    "ratings.head(10)"
   ]
  },
  {
   "cell_type": "code",
   "execution_count": null,
   "id": "3006adc5",
   "metadata": {},
   "outputs": [],
   "source": [
    "ratings.columns"
   ]
  },
  {
   "cell_type": "markdown",
   "id": "4fa5f42a",
   "metadata": {
    "tags": [],
    "toc-hr-collapsed": true
   },
   "source": [
    "### 3.1 Features Engineering\n",
    "\n",
    "#### 3.1.1 Check Duplicates ( no duplicated rows )"
   ]
  },
  {
   "cell_type": "code",
   "execution_count": null,
   "id": "9e06e90f",
   "metadata": {},
   "outputs": [],
   "source": [
    "ratings.shape"
   ]
  },
  {
   "cell_type": "code",
   "execution_count": null,
   "id": "c0b58fbd",
   "metadata": {},
   "outputs": [],
   "source": [
    "# must check duplicates first before dropping the columns\n",
    "# because all the four columns, especially the timestamp, are determining the duplication\n",
    "\n",
    "ratings.duplicated().sum()\n",
    "\n",
    "# no need to drop duplicates\n",
    "# no need: ratings = ratings.drop_duplicates()#### 3.1.2 Drop Unnecessary Columns"
   ]
  },
  {
   "cell_type": "markdown",
   "id": "2bc4057e",
   "metadata": {},
   "source": [
    "#### 3.1.2 Drop Unnecessary Columns"
   ]
  },
  {
   "cell_type": "code",
   "execution_count": null,
   "id": "142b0231",
   "metadata": {},
   "outputs": [],
   "source": [
    "# keep: product_id and rating  (each rating is valuable only)\n",
    "# drop: user_id and timestamp\n",
    "ratings = ratings.drop(columns=['user_id', 'timestamp'], errors='ignore')\n",
    "\n",
    "ratings.columns"
   ]
  },
  {
   "cell_type": "code",
   "execution_count": null,
   "id": "faa1d7ae",
   "metadata": {
    "scrolled": true
   },
   "outputs": [],
   "source": [
    "ratings.head(10)"
   ]
  },
  {
   "cell_type": "markdown",
   "id": "ca2f8c6e",
   "metadata": {},
   "source": [
    "#### 3.1.3 Create  'rating_average' and 'rating_count' from 'rating'"
   ]
  },
  {
   "cell_type": "code",
   "execution_count": null,
   "id": "389995bc",
   "metadata": {
    "scrolled": true
   },
   "outputs": [],
   "source": [
    "# Calculate the average rating and count of ratings for each product_id\n",
    "ratings = ratings.groupby('product_id').agg(rating_average=('rating', 'mean'), rating_count=('rating', 'count'))\n",
    "\n",
    "# use (0,1,2,3,4,5,6 as row indication instead of product_id)\n",
    "ratings = ratings.reset_index()"
   ]
  },
  {
   "cell_type": "code",
   "execution_count": null,
   "id": "0e0ed1f3",
   "metadata": {},
   "outputs": [],
   "source": [
    "ratings.head(10)"
   ]
  },
  {
   "cell_type": "code",
   "execution_count": null,
   "id": "8170fccf",
   "metadata": {},
   "outputs": [],
   "source": [
    "ratings.shape"
   ]
  },
  {
   "cell_type": "code",
   "execution_count": null,
   "id": "a6257187",
   "metadata": {
    "scrolled": true
   },
   "outputs": [],
   "source": [
    "# Top 10 products with the highest rating_count first then highest rating_average\n",
    "ratings.sort_values(by=['rating_count','rating_average'], ascending=[False, False]).head(10)"
   ]
  },
  {
   "cell_type": "markdown",
   "id": "c39b8ce1",
   "metadata": {
    "toc-hr-collapsed": true
   },
   "source": [
    "## 4. Merge 'products' and 'ratings' into 'products_merge'"
   ]
  },
  {
   "cell_type": "code",
   "execution_count": null,
   "id": "496aeb12",
   "metadata": {
    "scrolled": true
   },
   "outputs": [],
   "source": [
    "# Merge the products and ratings dataframes (keep all the products records)\n",
    "products_merge = pd.merge(products, ratings, on='product_id', how='left')\n",
    "\n",
    "# Output the first 10 rows\n",
    "products_merge.head(10)"
   ]
  },
  {
   "cell_type": "code",
   "execution_count": null,
   "id": "e821ca9a",
   "metadata": {},
   "outputs": [],
   "source": [
    "products_merge.shape"
   ]
  },
  {
   "cell_type": "markdown",
   "id": "e1635ba2",
   "metadata": {},
   "source": [
    "### 4.1 Replace NaN"
   ]
  },
  {
   "cell_type": "code",
   "execution_count": null,
   "id": "779a7c03",
   "metadata": {},
   "outputs": [],
   "source": [
    "products_merge.isnull().sum()"
   ]
  },
  {
   "cell_type": "code",
   "execution_count": null,
   "id": "ea7f8cf4",
   "metadata": {},
   "outputs": [],
   "source": [
    "products_merge[products_merge['main_category'] == 'all electronics'].count()"
   ]
  },
  {
   "cell_type": "code",
   "execution_count": null,
   "id": "81a11ff6",
   "metadata": {},
   "outputs": [],
   "source": [
    "products_merge[products_merge['main_category'] == 'all electronics'].isnull().sum()"
   ]
  },
  {
   "cell_type": "code",
   "execution_count": null,
   "id": "fe1456e9",
   "metadata": {},
   "outputs": [],
   "source": [
    "products_merge.fillna({'rating_average': 0.0, 'rating_count': 0}, inplace=True)"
   ]
  },
  {
   "cell_type": "code",
   "execution_count": null,
   "id": "6488592a",
   "metadata": {
    "scrolled": true
   },
   "outputs": [],
   "source": [
    "products_merge.isnull().sum()"
   ]
  },
  {
   "cell_type": "markdown",
   "id": "a490e5c3",
   "metadata": {
    "toc-hr-collapsed": true
   },
   "source": [
    "## 5. Simple Recommender System"
   ]
  },
  {
   "cell_type": "markdown",
   "id": "52ac23b4",
   "metadata": {},
   "source": [
    "### 5.1 Simple Rating Sort\n",
    "\n",
    "▪ Sorting 'products_merge' by multiple columns.\n",
    "\n",
    "▪ Issue: Even if the **rating_count** for a product is very high, but it can have a lower **rating_average**."
   ]
  },
  {
   "cell_type": "code",
   "execution_count": null,
   "id": "90c1376e",
   "metadata": {},
   "outputs": [],
   "source": [
    "# Top 10 products with the highest rating_count first then highest rating_average\n",
    "products_merge.sort_values(by=['rating_count','rating_average'], ascending=[False, False]).head(20)"
   ]
  },
  {
   "cell_type": "markdown",
   "id": "f3423438",
   "metadata": {},
   "source": [
    "### 5.2 Weighted Rating\n",
    "\n",
    "▪ A *weighted rating* that takes into account the **rating_average** and the **rating_count** it has accumulated.\n",
    "\n",
    "▪ We can calculate the Weighted Rating Score into a new 'score' column.\n",
    "\n",
    "▪ The formula of weighted rating is as follows:\n",
    "\n",
    "<img src=\"weighted_rating.png\" width=\"600\">\n",
    "\n",
    "\\>>> **v** is the number of rating for the product (represented by **rating_count**)\n",
    "\n",
    "\\>>> **m** is the **minimum rating count** required to be listed in the chart (to be calculated)\n",
    "\n",
    "\\>>> **R** is the average rating of the product (represented by **rating_average**)\n",
    "\n",
    "\\>>> **C** is the **mean of rating average** across the whole dataframe (to be calculated)"
   ]
  },
  {
   "cell_type": "code",
   "execution_count": null,
   "id": "e5778632",
   "metadata": {},
   "outputs": [],
   "source": [
    "# describe() - can analyse the dataframe overallly\n",
    "# C can be viewed using describe().\n",
    "\n",
    "products_merge.describe()\n",
    "\n",
    "# From the output:\n",
    "# get C: mean of **rating_average** of product"
   ]
  },
  {
   "cell_type": "code",
   "execution_count": null,
   "id": "6e3b8d69",
   "metadata": {},
   "outputs": [],
   "source": [
    "# C, the mean of rating average across the whole dataframe\n",
    "C = products_merge['rating_average'].mean()\n",
    "C"
   ]
  },
  {
   "cell_type": "code",
   "execution_count": null,
   "id": "24760b84",
   "metadata": {
    "scrolled": true
   },
   "outputs": [],
   "source": [
    "# m, minimum rating count required to be listed in the chart\n",
    "\n",
    "# consider the 90th percentile.\n",
    "\n",
    "# for a product to be recommended, it must have more votes than at least 90% of the products.\n",
    "\n",
    "m = products_merge['rating_count'].quantile(0.90) \n",
    "m"
   ]
  },
  {
   "cell_type": "code",
   "execution_count": null,
   "id": "d4ba0280",
   "metadata": {},
   "outputs": [],
   "source": [
    "q_products = products_merge.copy().loc[products_merge['rating_count'] >= m]\n",
    "\n",
    "q_products"
   ]
  },
  {
   "cell_type": "code",
   "execution_count": null,
   "id": "092dbc57",
   "metadata": {},
   "outputs": [],
   "source": [
    "# Function that computes the weighted rating of each product\n",
    "def weighted_rating(x, m = m, C = C):\n",
    "    \n",
    "    v = x['rating_count']\n",
    "    R = x['rating_average']\n",
    "    \n",
    "    # Calculation based on the IMDB formula\n",
    "    return (v / (v + m) * R) + (m / (m + v) * C)"
   ]
  },
  {
   "cell_type": "code",
   "execution_count": null,
   "id": "efdf647d",
   "metadata": {},
   "outputs": [],
   "source": [
    "q_products['score'] = q_products.apply(weighted_rating, axis=1)\n",
    "\n",
    "q_products.head(20)"
   ]
  },
  {
   "cell_type": "markdown",
   "id": "b7490afd",
   "metadata": {},
   "source": [
    "### 5.3 Result using Weighted Rating"
   ]
  },
  {
   "cell_type": "markdown",
   "id": "704c9b72",
   "metadata": {},
   "source": [
    "#### 5.3.1 Recommending Top 20 Products\n",
    "\n",
    "▪ Sort q_proucts in descending order based on the score feature column.\n",
    "\n",
    "▪ Output the product_name, main_category, brand_or_author, price, rating_average, rating_count, and weighted rating (score) of the top 20 products."
   ]
  },
  {
   "cell_type": "code",
   "execution_count": null,
   "id": "fff69593",
   "metadata": {
    "scrolled": true
   },
   "outputs": [],
   "source": [
    "# Sort products based on 'score' and recommend the top 20 products\n",
    "top_20_proucts = q_products.sort_values('score', ascending = False).head(20).reset_index()\n",
    "\n",
    "columns = ['product_id', 'product_name', 'main_category','brand_or_author', 'price',  'rating_average', 'rating_count', 'score']\n",
    "top_20_proucts = top_20_proucts [columns]\n",
    "\n",
    "top_20_proucts.index = top_20_proucts.index + 1\n",
    "\n",
    "top_20_proucts"
   ]
  },
  {
   "cell_type": "markdown",
   "id": "92f2b63c",
   "metadata": {},
   "source": [
    "#### 5.3.2 Recommending Top 20 Products According to product_name"
   ]
  },
  {
   "cell_type": "code",
   "execution_count": null,
   "id": "6ede5b91",
   "metadata": {},
   "outputs": [],
   "source": [
    "# E.g. speaker\n",
    "product_name = input(\"Enter the product name : \")"
   ]
  },
  {
   "cell_type": "code",
   "execution_count": null,
   "id": "817c7378",
   "metadata": {},
   "outputs": [],
   "source": [
    "top_20_product_name = q_products[q_products['product_name'].str.contains(product_name.lower())]\n",
    "\n",
    "top_20_product_name = top_20_product_name.sort_values('score', ascending = False).reset_index()[columns]\n",
    "top_20_product_name.index = top_20_product_name.index + 1\n",
    "\n",
    "top_20_product_name.head(20)"
   ]
  },
  {
   "cell_type": "markdown",
   "id": "69f694c2",
   "metadata": {},
   "source": [
    "#### 5.3.3 Recommending Top 20 Products According to main_category"
   ]
  },
  {
   "cell_type": "code",
   "execution_count": null,
   "id": "48e13884",
   "metadata": {},
   "outputs": [],
   "source": [
    "# e.g camera\n",
    "main_category = input(\"Enter the main category : \")"
   ]
  },
  {
   "cell_type": "code",
   "execution_count": null,
   "id": "f7dc341c",
   "metadata": {},
   "outputs": [],
   "source": [
    "top_20_main_category = q_products[q_products['main_category'].str.contains(main_category.lower())]\n",
    "\n",
    "top_20_main_category = top_20_main_category [columns].sort_values('score', ascending = False).reset_index()\n",
    "top_20_main_category.index = top_20_main_category.index + 1\n",
    "\n",
    "top_20_main_category.head(20)"
   ]
  },
  {
   "cell_type": "markdown",
   "id": "b55ca036",
   "metadata": {},
   "source": [
    "#### 5.3.4 Recommending Top 20 Products According to brand_or_author"
   ]
  },
  {
   "cell_type": "code",
   "execution_count": null,
   "id": "2c8e79b3",
   "metadata": {
    "scrolled": true
   },
   "outputs": [],
   "source": [
    "# e.g. microsoft\n",
    "brand_or_author = input(\"Enter the brand or author : \")"
   ]
  },
  {
   "cell_type": "code",
   "execution_count": null,
   "id": "d6cf8071",
   "metadata": {},
   "outputs": [],
   "source": [
    "top_20_brand_or_author = q_products[q_products['brand_or_author'].str.contains(brand_or_author.lower())]\n",
    "\n",
    "top_20_brand_or_author = top_20_brand_or_author [columns].sort_values('score', ascending = False).reset_index()\n",
    "top_20_brand_or_author.index = top_20_brand_or_author.index + 1\n",
    "\n",
    "top_20_brand_or_author.head(20)"
   ]
  },
  {
   "cell_type": "markdown",
   "id": "eda3837a",
   "metadata": {},
   "source": [
    "#### 5.3.5 Recommending Top 20 Products According to price range"
   ]
  },
  {
   "cell_type": "code",
   "execution_count": null,
   "id": "49658db3",
   "metadata": {},
   "outputs": [],
   "source": [
    "# e.g. 10, 100\n",
    "min_price = int(input(\"Enter the minimum price : \"))\n",
    "max_price = int(input(\"Enter the maximum price : \"))"
   ]
  },
  {
   "cell_type": "code",
   "execution_count": null,
   "id": "a03e9f32",
   "metadata": {},
   "outputs": [],
   "source": [
    "top_20_within_price_range = q_products[(q_products['price'] >= min_price) & (q_products['price'] <= max_price)]\n",
    "\n",
    "top_20_within_price_range = top_20_within_price_range [columns].sort_values('score', ascending = False).reset_index()\n",
    "top_20_within_price_range.index = top_20_within_price_range.index + 1\n",
    "\n",
    "top_20_within_price_range.head(20)"
   ]
  },
  {
   "cell_type": "markdown",
   "id": "5cfa72fd",
   "metadata": {},
   "source": [
    "# Content-Based Filtering Recommender System\n",
    "Done by Oh Boon Suen"
   ]
  },
  {
   "cell_type": "markdown",
   "id": "2db5f73c-78b8-482f-a42d-fd660999ace0",
   "metadata": {
    "tags": []
   },
   "source": [
    "## 2. File Reading and Features Engineering: products"
   ]
  },
  {
   "cell_type": "code",
   "execution_count": null,
   "id": "d6a6d3c4",
   "metadata": {
    "tags": []
   },
   "outputs": [],
   "source": [
    "# Read the electronic products file\n",
    "products_dataset_path = './dataset/electronic_products.json'\n",
    "products = pd.read_json(products_dataset_path, lines=True)\n",
    "\n",
    "# Output the first 10 rows\n",
    "products.head(10)"
   ]
  },
  {
   "cell_type": "code",
   "execution_count": null,
   "id": "6e3787b4",
   "metadata": {
    "tags": []
   },
   "outputs": [],
   "source": [
    "print(products.shape)\n",
    "# output: (rows, columns)"
   ]
  },
  {
   "cell_type": "code",
   "execution_count": null,
   "id": "b53851a6-6423-4be9-97b4-6787ab68a3d8",
   "metadata": {
    "tags": []
   },
   "outputs": [],
   "source": [
    "# retrieving column name\n",
    "products.columns"
   ]
  },
  {
   "cell_type": "code",
   "execution_count": null,
   "id": "7f10bbc0-4ad9-4763-bb9f-c579c1999e89",
   "metadata": {
    "tags": []
   },
   "outputs": [],
   "source": [
    "# There are 104802 records with 19 columns\n",
    "print(products.shape)"
   ]
  },
  {
   "cell_type": "markdown",
   "id": "8d9b2f37-cc5f-455b-8d57-0d946a345aef",
   "metadata": {
    "toc-hr-collapsed": true
   },
   "source": [
    "### 2.1 General Cleansing\n",
    "\n",
    "#### 2.1.1 Drop Unnecessary columns"
   ]
  },
  {
   "cell_type": "code",
   "execution_count": null,
   "id": "cad115bf-e5e5-4b78-9ca8-693678557430",
   "metadata": {
    "tags": []
   },
   "outputs": [],
   "source": [
    "# keep: asin, title, brand, main_cat, category\n",
    "products = products.drop(columns=['fit', 'description', 'rank', 'details', 'also_buy', \n",
    "                                  'tech1', 'tech2', 'feature', 'price', 'date', 'imageURL', \n",
    "                                  'also_view', 'imageURLHighRes', 'similar_item'], errors='ignore')\n",
    "products.columns"
   ]
  },
  {
   "cell_type": "code",
   "execution_count": null,
   "id": "0d907464-3756-41df-8e9e-057e2778e0b2",
   "metadata": {
    "tags": []
   },
   "outputs": [],
   "source": [
    "products = products[['asin', 'title', 'brand', 'main_cat', 'category']]\n",
    "products.columns = ['product_id', 'product_name', 'brand_or_author', 'main_category', 'category_tags']"
   ]
  },
  {
   "cell_type": "code",
   "execution_count": null,
   "id": "7b5c5108-f3ef-4ca7-bd6f-07e5a83827a2",
   "metadata": {
    "tags": []
   },
   "outputs": [],
   "source": [
    "products.head(10)"
   ]
  },
  {
   "cell_type": "markdown",
   "id": "0a43802a-72b1-4156-9fae-c2293e059ede",
   "metadata": {
    "tags": []
   },
   "source": [
    "#### 2.1.2 Remove Duplicates"
   ]
  },
  {
   "cell_type": "code",
   "execution_count": null,
   "id": "e3eb03d9-1ffd-4f59-8e7f-2d88a59f8807",
   "metadata": {
    "tags": []
   },
   "outputs": [],
   "source": [
    "products.shape"
   ]
  },
  {
   "cell_type": "code",
   "execution_count": null,
   "id": "74d1abf8-cb16-453e-8077-6f53cbfd259e",
   "metadata": {
    "tags": []
   },
   "outputs": [],
   "source": [
    "products[\"category_tags\"] = products[\"category_tags\"].str.join(\" \")\n",
    "products.duplicated().sum()"
   ]
  },
  {
   "cell_type": "code",
   "execution_count": null,
   "id": "653f8e5a-ac75-4da6-9e6e-9b65c3cfab61",
   "metadata": {
    "tags": []
   },
   "outputs": [],
   "source": [
    "products = products.drop_duplicates()\n",
    "\n",
    "products.shape"
   ]
  },
  {
   "cell_type": "markdown",
   "id": "90107354-3058-4c9d-92ab-313f935761b7",
   "metadata": {},
   "source": [
    "#### 2.1.3 Format Strings"
   ]
  },
  {
   "cell_type": "code",
   "execution_count": null,
   "id": "53a6ad3e-72b3-4c73-a015-b4bf7732f2cb",
   "metadata": {
    "tags": []
   },
   "outputs": [],
   "source": [
    "# Defining text cleaning function\n",
    "def text_cleaning(text):\n",
    "    # 1. convert any HTML entities in the text to their corresponding characters\n",
    "    # e.g. &amp; to &, &quot; to \", &reg; to ®\n",
    "    text = html.unescape(text)\n",
    "    \n",
    "    # 2. convert to lower case\n",
    "    return text.lower()\n",
    "\n",
    "text = \"&amp; &quot &reg;\"\n",
    "cleaned_text = text_cleaning(text)\n",
    "print(cleaned_text)"
   ]
  },
  {
   "cell_type": "code",
   "execution_count": null,
   "id": "fe6fec7d-67fa-456b-8701-fdb752873aa6",
   "metadata": {
    "tags": []
   },
   "outputs": [],
   "source": [
    "# List of columns to be cleaned\n",
    "cols_to_clean = ['product_name', 'brand_or_author', 'main_category', 'category_tags']\n",
    "\n",
    "# Apply the text cleaning function to each column\n",
    "for col in cols_to_clean:\n",
    "    products[col] = products[col].apply(lambda x: text_cleaning(x))"
   ]
  },
  {
   "cell_type": "code",
   "execution_count": null,
   "id": "827b92f9-14bb-4579-971a-37d50b59bb77",
   "metadata": {
    "tags": []
   },
   "outputs": [],
   "source": [
    "products"
   ]
  },
  {
   "cell_type": "markdown",
   "id": "b89f6449-0aac-48a7-b552-509f67483c1a",
   "metadata": {},
   "source": [
    "### 2.2 Cleaning 'main_category' column"
   ]
  },
  {
   "cell_type": "code",
   "execution_count": null,
   "id": "0c5a09a7-cee1-49db-86eb-80673e322a57",
   "metadata": {
    "tags": []
   },
   "outputs": [],
   "source": [
    "main_category_df = products.groupby('main_category').size().reset_index(name='count')\n",
    "main_category_df"
   ]
  },
  {
   "cell_type": "code",
   "execution_count": null,
   "id": "4d22b6b2-3f71-4c05-829b-697b51ef921d",
   "metadata": {
    "tags": []
   },
   "outputs": [],
   "source": [
    "# The four image HTML elements are actually belongs to 'amazon fashion'\n",
    "for i in (main_category_df.loc[0:3, 'main_category']):\n",
    "    print(i)\n",
    "\n",
    "# There are total 169 products for amazon fashion\n",
    "total_af = {'main_category': 'Total', 'count': len(products.loc[products['main_category'].str.contains('amazon fashion')])}\n",
    "main_category_df.loc[main_category_df['main_category'].str.contains('amazon fashion')].append(total_af, ignore_index=True)"
   ]
  },
  {
   "cell_type": "code",
   "execution_count": null,
   "id": "d5240bd6-7cac-4512-a1bb-a5b0662fd87e",
   "metadata": {
    "tags": []
   },
   "outputs": [],
   "source": [
    "# assign the four image HTML elements to 'amazon fashion' in main_category_df data frame\n",
    "main_category_df.loc[main_category_df['main_category'].str.contains('amazon fashion'), 'main_category'] = 'amazon fashion'\n",
    "\n",
    "main_category_df.groupby('main_category').sum()"
   ]
  },
  {
   "cell_type": "code",
   "execution_count": null,
   "id": "953dfee6-f847-476c-a746-15a5ee0bc336",
   "metadata": {
    "tags": []
   },
   "outputs": [],
   "source": [
    "# assign the four image HTML elements to 'amazon fashion' in products data frame\n",
    "products.loc[products['main_category'].str.contains('amazon fashion'), 'main_category'] = 'amazon fashion'\n",
    "\n",
    "products.groupby('main_category').size().reset_index(name='count')"
   ]
  },
  {
   "cell_type": "markdown",
   "id": "86d1d911-0727-4b73-8e27-6c71a9954599",
   "metadata": {},
   "source": [
    "### 2.3 Cleaning 'brand_or_author' column"
   ]
  },
  {
   "cell_type": "code",
   "execution_count": null,
   "id": "223113a7-1e7e-4360-8a66-eab73ea40781",
   "metadata": {
    "tags": []
   },
   "outputs": [],
   "source": [
    "# The visit amazon's .... page pattern is actually the author.\n",
    "pattern = \"^visit amazon's (.*) page$\"\n",
    "mask = products['brand_or_author'].str.contains(pattern)\n",
    "selected_columns = ['brand_or_author', 'main_category']\n",
    "visit_amazon_pattern = products.loc[mask, selected_columns]\n",
    "\n",
    "visit_amazon_pattern"
   ]
  },
  {
   "cell_type": "code",
   "execution_count": null,
   "id": "565d4498-5ce5-4fd7-9a72-c8930f1fec2d",
   "metadata": {
    "tags": []
   },
   "outputs": [],
   "source": [
    "visit_amazon_pattern.groupby('main_category').size().reset_index(name='count')"
   ]
  },
  {
   "cell_type": "code",
   "execution_count": null,
   "id": "6c56c38f-9758-4bb8-b694-77179ba03e7e",
   "metadata": {
    "tags": []
   },
   "outputs": [],
   "source": [
    "# Clean the brand or author column\n",
    "def clean_author_string(author_string):\n",
    "    author_string = author_string.replace(\"visit amazon's \", \"\")\n",
    "    author_string = author_string.replace(\" page\", \"\")\n",
    "    return author_string\n",
    "\n",
    "products['brand_or_author'] = products['brand_or_author'].apply(clean_author_string)"
   ]
  },
  {
   "cell_type": "code",
   "execution_count": null,
   "id": "9c051ec8-1915-4d12-8c42-883fe1543f67",
   "metadata": {
    "tags": []
   },
   "outputs": [],
   "source": [
    "# result\n",
    "products.head(10)"
   ]
  },
  {
   "cell_type": "markdown",
   "id": "e99b5bc2-5f11-43f5-97fe-1ff92e5893a7",
   "metadata": {},
   "source": [
    "### 2.4 Creating 'ensemble' column"
   ]
  },
  {
   "cell_type": "code",
   "execution_count": null,
   "id": "4aa2169b-7c1a-485f-93ca-d62df2b979bd",
   "metadata": {},
   "outputs": [],
   "source": [
    "# Creating datasoup made of the selected 4 columns\n",
    "products['ensemble'] = products['product_name'] + ' ' + products['brand_or_author'] + ' ' + products['main_category'] + ' ' + products['category_tags']\n",
    "\n",
    "# Printing record at index 0\n",
    "print(products['ensemble'].iloc[0])"
   ]
  },
  {
   "cell_type": "markdown",
   "id": "b2fac0fc-1510-4f2a-8f60-ac84f5af923a",
   "metadata": {
    "tags": []
   },
   "source": [
    "## 3. Content-Based Filtering Recommender System"
   ]
  },
  {
   "cell_type": "code",
   "execution_count": null,
   "id": "75f0662b-9423-4b35-a325-79ddd188c3aa",
   "metadata": {
    "tags": []
   },
   "outputs": [],
   "source": [
    "# Only get the first 30k records due to memory limitation\n",
    "# when computing the cosine similarity matrix\n",
    "products = products.head(30000)"
   ]
  },
  {
   "cell_type": "markdown",
   "id": "60db35d1-9dc2-4f64-be9c-f4fdde607eeb",
   "metadata": {},
   "source": [
    "### 3.1 Exploratory Data Analysis"
   ]
  },
  {
   "cell_type": "code",
   "execution_count": null,
   "id": "21eeb543-4f42-4323-a606-ec1347e3b612",
   "metadata": {
    "tags": []
   },
   "outputs": [],
   "source": [
    "# Top most frequent brands\n",
    "plt.subplots(figsize=(10,7))\n",
    "products.brand_or_author.value_counts()[:10].plot(kind=\"bar\")\n",
    "plt.show()"
   ]
  },
  {
   "cell_type": "code",
   "execution_count": null,
   "id": "7f3aefd9-82da-4ae9-adcc-28bc439d6008",
   "metadata": {
    "tags": []
   },
   "outputs": [],
   "source": [
    "# Top 10 most frequent main categories\n",
    "plt.subplots(figsize=(10,7))\n",
    "products.main_category.value_counts()[:10].plot(kind=\"bar\")\n",
    "plt.show()\n",
    "# print(products.main_cat.value_counts()[:10])"
   ]
  },
  {
   "cell_type": "markdown",
   "id": "329f525e-da82-4c70-b6af-afa1c7c521ef",
   "metadata": {
    "toc-hr-collapsed": true
   },
   "source": [
    "### 3.2 Using TfidfVectorizer"
   ]
  },
  {
   "cell_type": "markdown",
   "id": "2a49836c-3cf8-47e7-affc-56c05bc9afd3",
   "metadata": {},
   "source": [
    "#### 3.2.1 Reusable Function Definitions"
   ]
  },
  {
   "cell_type": "code",
   "execution_count": null,
   "id": "b9841de4-b158-4973-a3f7-b5e360dfbaf2",
   "metadata": {
    "tags": []
   },
   "outputs": [],
   "source": [
    "# Function that compute the cosine similarity matrix for an attribute\n",
    "def compute_cosine_sim(attribute):\n",
    "    # Remove stop words\n",
    "    tf = TfidfVectorizer(analyzer='word', stop_words='english')\n",
    "    # Construct the required TF-IDF matrix by fitting and transforming the data\n",
    "    tfidf_matrix = tf.fit_transform(products[attribute])\n",
    "    # Compute the cosine similarity matrix\n",
    "    cosine_sim = linear_kernel(tfidf_matrix, tfidf_matrix)\n",
    "    return cosine_sim\n",
    "\n",
    "# Function that get product recommendations based on the \n",
    "# cosine similarity score of a certain attribute passed in\n",
    "def get_recommendations(product_name, n, cosine_sim):\n",
    "    # Build 1-dimensional array with product names\n",
    "    indices = pd.Series(products.index, index=products['product_name'])\n",
    "    \n",
    "    # Get the index of the product that matches the names\n",
    "    idx = indices[product_name]\n",
    "    \n",
    "    # Use the first product if there're multiple products with same name\n",
    "    if (not isinstance(idx, (int, np.int64))):\n",
    "        idx = indices[product_name].iloc[0]\n",
    "        \n",
    "    # Get the pairwsie similarity scores of all products with that product\n",
    "    sim_scores = list(enumerate(cosine_sim[idx]))\n",
    "    # Sort the products based on the similarity scores\n",
    "    sim_scores = sorted(sim_scores, key=lambda x: x[1], reverse=True)\n",
    "    # Exclude the entered product\n",
    "    sim_scores = [tup for tup in sim_scores if tup[0] != idx]\n",
    "    # Get the scores of the N most similar products\n",
    "    sim_scores = sim_scores[0:n]\n",
    "    # Get the product indices\n",
    "    product_indices = [i[0] for i in sim_scores]\n",
    "    # Return the top N most similar products\n",
    "    return products.iloc[product_indices]\n",
    "\n",
    "# Function that get product name input from user\n",
    "def getProductNameInput():\n",
    "    name_input = input('Enter product name: ').lower()\n",
    "    \n",
    "    all_names = [products['product_name'][i] for i in range(len(products['product_name']))]\n",
    "    \n",
    "    if name_input not in all_names:\n",
    "        print(\"Product not found, please enter again!\")\n",
    "    \n",
    "    return name_input"
   ]
  },
  {
   "cell_type": "markdown",
   "id": "062af04e-f119-4bb0-a9d7-5d00faf04e7c",
   "metadata": {},
   "source": [
    "#### 3.2.2 Recommending products based on \"product_name\""
   ]
  },
  {
   "cell_type": "code",
   "execution_count": null,
   "id": "e2d06e2b-2315-463d-8b6d-86713a4a6d40",
   "metadata": {
    "tags": []
   },
   "outputs": [],
   "source": [
    "# Get the cosine similarity matrix for product_name attribute\n",
    "cosine_sim_product_name = compute_cosine_sim('product_name')"
   ]
  },
  {
   "cell_type": "code",
   "execution_count": null,
   "id": "0d9326c1-3fe7-42e2-a197-fb1757fdba43",
   "metadata": {
    "tags": []
   },
   "outputs": [],
   "source": [
    "# Getting the product name input from user\n",
    "name_input = getProductNameInput()"
   ]
  },
  {
   "cell_type": "code",
   "execution_count": null,
   "id": "0d65d6e1-9535-45ec-b728-0d81fd698785",
   "metadata": {
    "tags": []
   },
   "outputs": [],
   "source": [
    "# Top 20 most similar products\n",
    "get_recommendations(name_input, 20, cosine_sim_product_name)"
   ]
  },
  {
   "cell_type": "markdown",
   "id": "0c231ef5-d7c0-4b64-b0f6-1ddcee0bd8f2",
   "metadata": {},
   "source": [
    "#### 3.2.3 Recommending products based on \"brand_or_author\""
   ]
  },
  {
   "cell_type": "code",
   "execution_count": null,
   "id": "084e9480-9183-4d65-b0f0-e1a977799663",
   "metadata": {
    "tags": []
   },
   "outputs": [],
   "source": [
    "# Get the cosine similarity matrix for brand_or_author attribute\n",
    "cosine_sim_brand_or_author = compute_cosine_sim('brand_or_author')"
   ]
  },
  {
   "cell_type": "code",
   "execution_count": null,
   "id": "6db23c99-aac8-48c1-a3e4-62a8036df5cb",
   "metadata": {},
   "outputs": [],
   "source": [
    "# Getting the product name input from user\n",
    "name_input = getProductNameInput()"
   ]
  },
  {
   "cell_type": "code",
   "execution_count": null,
   "id": "5129a186-d4cd-440d-ba0a-adfaee9a350a",
   "metadata": {
    "tags": []
   },
   "outputs": [],
   "source": [
    "# Top 20 most similar products\n",
    "get_recommendations(name_input, 20, cosine_sim_brand_or_author)"
   ]
  },
  {
   "cell_type": "markdown",
   "id": "f2946d37-c55d-4d2a-95aa-369b6539002c",
   "metadata": {},
   "source": [
    "#### 3.2.4 Recommending products based on \"main_category\""
   ]
  },
  {
   "cell_type": "code",
   "execution_count": null,
   "id": "c2b90f79-eb4a-4028-8724-158b54d00c78",
   "metadata": {
    "tags": []
   },
   "outputs": [],
   "source": [
    "# Get the cosine similarity matrix for main_category attribute\n",
    "cosine_sim_main_category = compute_cosine_sim('main_category')"
   ]
  },
  {
   "cell_type": "code",
   "execution_count": null,
   "id": "b33885a3-249a-45a2-8f2d-29b16caa4ad4",
   "metadata": {},
   "outputs": [],
   "source": [
    "# Getting the product name input from user\n",
    "name_input = getProductNameInput()"
   ]
  },
  {
   "cell_type": "code",
   "execution_count": null,
   "id": "f84c2fc5-8704-4b62-8afd-c219003025b6",
   "metadata": {
    "tags": []
   },
   "outputs": [],
   "source": [
    "# Top 20 most similar products\n",
    "get_recommendations(name_input, 20, cosine_sim_main_category)"
   ]
  },
  {
   "cell_type": "markdown",
   "id": "9cff7419-c845-41fd-ac0b-b6731e00df4d",
   "metadata": {},
   "source": [
    "#### 3.2.5 Recommending products based on \"category_tags\""
   ]
  },
  {
   "cell_type": "code",
   "execution_count": null,
   "id": "0e8ca461-ee29-4156-a7c7-394048e5d6a4",
   "metadata": {
    "tags": []
   },
   "outputs": [],
   "source": [
    "# Get the cosine similarity matrix for category_tags attribute\n",
    "cosine_sim_category_tags = compute_cosine_sim('category_tags')"
   ]
  },
  {
   "cell_type": "code",
   "execution_count": null,
   "id": "e53c6e38-be9a-45fa-b818-8c67f3ca65b2",
   "metadata": {},
   "outputs": [],
   "source": [
    "# Getting the product name input from user\n",
    "name_input = getProductNameInput()"
   ]
  },
  {
   "cell_type": "code",
   "execution_count": null,
   "id": "995eed1d-2bf2-420b-8b33-5c0e47290ba8",
   "metadata": {
    "tags": []
   },
   "outputs": [],
   "source": [
    "# Top 20 most similar products\n",
    "get_recommendations(name_input, 20, cosine_sim_category_tags)"
   ]
  },
  {
   "cell_type": "markdown",
   "id": "1c3547d4-e057-4b46-80ef-df766b40d2ac",
   "metadata": {},
   "source": [
    "#### 3.2.6 Recommending products based on a mixture of \"product_name\", \"brand_or_author\", \"main_category\" and \"categories_tags\""
   ]
  },
  {
   "cell_type": "code",
   "execution_count": null,
   "id": "ecbb34f3-b3c0-4c93-a5ab-ab80ee7bfefb",
   "metadata": {
    "tags": []
   },
   "outputs": [],
   "source": [
    "# Get the cosine similarity matrix for ensemble attribute\n",
    "cosine_sim_ensemble = compute_cosine_sim('ensemble')"
   ]
  },
  {
   "cell_type": "code",
   "execution_count": null,
   "id": "e679c61a-cdc4-4e12-9a9f-a7f494504681",
   "metadata": {},
   "outputs": [],
   "source": [
    "# Getting the product name input from user\n",
    "name_input = getProductNameInput()"
   ]
  },
  {
   "cell_type": "code",
   "execution_count": null,
   "id": "f01814cf-cdc6-4b74-b488-caa27590db18",
   "metadata": {
    "tags": []
   },
   "outputs": [],
   "source": [
    "# Top 20 most similar products\n",
    "get_recommendations(name_input, 20, cosine_sim_ensemble)"
   ]
  },
  {
   "cell_type": "markdown",
   "id": "1bd06f38-af9d-4e22-a686-1d2dd79b45b5",
   "metadata": {
    "tags": []
   },
   "source": [
    "### 3.3 Using CountVectorizer"
   ]
  },
  {
   "cell_type": "markdown",
   "id": "43cfdb99-8a7c-4871-b033-209041aa92c2",
   "metadata": {},
   "source": [
    "#### 3.3.1 Reusable Function Definitions"
   ]
  },
  {
   "cell_type": "code",
   "execution_count": 1,
   "id": "897239f3-f3b1-4422-97a7-fd0793516837",
   "metadata": {
    "tags": []
   },
   "outputs": [],
   "source": [
    "# Function that compute the cosine similarity matrix for an attribute\n",
    "def get_cosine_sim_and_matrix_cv(attribute):\n",
    "    # Initialize vectorizer\n",
    "    # min_df = rare words, max_df = most used words\n",
    "    vect = CountVectorizer(analyzer = 'word', stop_words = 'english')\n",
    "    # Fit into the attribute\n",
    "    vect.fit(products[attribute])\n",
    "    cv_matrix = vect.transform(products[attribute])\n",
    "    \n",
    "    cosine_sim = cosine_similarity(cv_matrix, cv_matrix)\n",
    "    \n",
    "    return [cosine_sim, cv_matrix]\n",
    "    \n",
    "def get_recommendations_cv(product_name, n, cosine_sim, matrix):\n",
    "    # Build 1-dimensional array with product names\n",
    "    indices = pd.Series(products.index, index=products['product_name'])\n",
    "    \n",
    "    # Get the index of the product that matches the names\n",
    "    name_idx = indices[product_name]\n",
    "    \n",
    "    # Use the first product if there're multiple products with same name\n",
    "    if (not isinstance(name_idx, (int, np.int64))):\n",
    "        name_idx = indices[product_name].iloc[0]\n",
    "        \n",
    "    # Find out what features have been considered by the vectorizer for a given name \n",
    "    feature_array = np.squeeze(matrix[name_idx].toarray()) # squeeze activity matrix into array\n",
    "    idx = np.where(feature_array > 0)\n",
    "        \n",
    "    # Cosine similarity with other similar attributes\n",
    "    top_n_idx = np.flip(np.argsort(cosine_sim[name_idx,]), axis = 0)[0:n+1]\n",
    "    top_n_sim_values = cosine_sim[name_idx, top_n_idx]\n",
    "    \n",
    "    # Find top n with values > 0\n",
    "    top_n_idx = top_n_idx[top_n_sim_values > 0]\n",
    "    scores = top_n_sim_values[top_n_sim_values > 0]\n",
    "    \n",
    "    # Exclude entered product\n",
    "    for idx, i in enumerate(top_n_idx):\n",
    "        if i == name_idx:\n",
    "            top_n_idx = np.delete(top_n_idx, idx)\n",
    "            scores = np.delete(scores, idx)\n",
    "    \n",
    "    return pd.DataFrame(\n",
    "        {\n",
    "            \"product_name\": products['product_name'].iloc[top_n_idx].values,\n",
    "            \"brand_or_author\": products['brand_or_author'].iloc[top_n_idx].values,\n",
    "            \"main_category\": products['main_category'].iloc[top_n_idx].values,\n",
    "            \"category_tags\": products['category_tags'].iloc[top_n_idx].values,\n",
    "            \"score\": scores\n",
    "        },\n",
    "        columns = [\"product_name\", \"brand_or_author\", \"main_category\", \"category_tags\", \"score\"]\n",
    "    )\n",
    "\n",
    "# Function that get product name input from user\n",
    "def getProductNameInput():\n",
    "    name_input = input('Enter product name: ').lower()\n",
    "    \n",
    "    all_names = [products['product_name'][i] for i in range(len(products['product_name']))]\n",
    "    \n",
    "    if name_input not in all_names:\n",
    "        print(\"Product not found, please enter again!\")\n",
    "        \n",
    "    return name_input"
   ]
  },
  {
   "cell_type": "markdown",
   "id": "167aa878-933f-43ee-9012-adad869a6c41",
   "metadata": {},
   "source": [
    "#### 3.3.2 Recommending products based on \"product_name\""
   ]
  },
  {
   "cell_type": "code",
   "execution_count": null,
   "id": "36bfa381-dc59-4cec-bcc1-13ee3b8ab632",
   "metadata": {
    "tags": []
   },
   "outputs": [],
   "source": [
    "# Get the cosine similarity matrix for product_name attribute\n",
    "result = get_cosine_sim_and_matrix_cv('product_name')\n",
    "cosine_sim_product_name_cv = result[0]\n",
    "matrix_product_name_cv = result[1]"
   ]
  },
  {
   "cell_type": "code",
   "execution_count": null,
   "id": "00acf980-37ba-4059-accd-76f2753ba78a",
   "metadata": {},
   "outputs": [],
   "source": [
    "# Getting the product name input from user\n",
    "name_input = getProductNameInput()"
   ]
  },
  {
   "cell_type": "code",
   "execution_count": null,
   "id": "0e8ca9e8-ef7e-4951-ba69-4625fc5d6f2f",
   "metadata": {
    "tags": []
   },
   "outputs": [],
   "source": [
    "# Top 20 most similar products\n",
    "get_recommendations_cv(name_input, 20, cosine_sim_product_name_cv, matrix_product_name_cv)"
   ]
  },
  {
   "cell_type": "markdown",
   "id": "ce025739-30fa-43d8-b535-654a5a0faa98",
   "metadata": {},
   "source": [
    "#### 3.3.3 Recommending products based on \"brand_or_author\""
   ]
  },
  {
   "cell_type": "code",
   "execution_count": null,
   "id": "5559356e-f11f-4902-9c67-d6f49caad160",
   "metadata": {
    "tags": []
   },
   "outputs": [],
   "source": [
    "# Get the cosine similarity matrix for brand_or_author attribute\n",
    "result = get_cosine_sim_and_matrix_cv('brand_or_author')\n",
    "cosine_sim_brand_or_author_cv = result[0]\n",
    "matrix_brand_or_author_cv = result[1]"
   ]
  },
  {
   "cell_type": "code",
   "execution_count": null,
   "id": "b8656f41-ddf8-4cdc-9806-d614b72e84b5",
   "metadata": {},
   "outputs": [],
   "source": [
    "# Getting the product name input from user\n",
    "name_input = getProductNameInput()"
   ]
  },
  {
   "cell_type": "code",
   "execution_count": null,
   "id": "2c579e91-0636-4f4d-b1fc-ad4db9ff34f9",
   "metadata": {},
   "outputs": [],
   "source": [
    "# Top 20 most similar products\n",
    "get_recommendations_cv(name_input, 20, cosine_sim_brand_or_author_cv, matrix_brand_or_author_cv)"
   ]
  },
  {
   "cell_type": "markdown",
   "id": "c6914347-dff8-4456-be2d-3b01aaf405a2",
   "metadata": {},
   "source": [
    "#### 3.3.4 Recommending products based on \"main_category\""
   ]
  },
  {
   "cell_type": "code",
   "execution_count": null,
   "id": "76c4347d-4e0d-48cf-9473-18e2cdfc1e45",
   "metadata": {},
   "outputs": [],
   "source": [
    "# Get the cosine similarity matrix for main_category attribute\n",
    "result = get_cosine_sim_and_matrix_cv('main_category')\n",
    "cosine_sim_main_category_cv = result[0]\n",
    "matrix_main_category_cv = result[1]"
   ]
  },
  {
   "cell_type": "code",
   "execution_count": null,
   "id": "8a02d18f-ac85-4c00-84df-53d35a3ad399",
   "metadata": {},
   "outputs": [],
   "source": [
    "# Getting the product name input from user\n",
    "name_input = getProductNameInput()"
   ]
  },
  {
   "cell_type": "code",
   "execution_count": null,
   "id": "935ccf4c-f0ff-46df-a76b-96fd3ded49eb",
   "metadata": {},
   "outputs": [],
   "source": [
    "# Top 20 most similar products\n",
    "get_recommendations_cv(name_input, 20, cosine_sim_main_category_cv, matrix_main_category_cv)"
   ]
  },
  {
   "cell_type": "markdown",
   "id": "2894012a-c4d7-49b7-9238-7c11c1894b47",
   "metadata": {},
   "source": [
    "#### 3.3.5 Recommending products based on \"category_tags\""
   ]
  },
  {
   "cell_type": "code",
   "execution_count": null,
   "id": "f5542901-d9b2-451e-879f-af088ff85980",
   "metadata": {},
   "outputs": [],
   "source": [
    "# Get the cosine similarity matrix for category_tags attribute\n",
    "result = get_cosine_sim_and_matrix_cv('category_tags')\n",
    "cosine_sim_category_tags_cv = result[0]\n",
    "matrix_category_tags_cv = result[1]"
   ]
  },
  {
   "cell_type": "code",
   "execution_count": null,
   "id": "295b3a4a-72b4-473e-8b36-1182fec03154",
   "metadata": {},
   "outputs": [],
   "source": [
    "# Getting the product name input from user\n",
    "name_input = getProductNameInput()"
   ]
  },
  {
   "cell_type": "code",
   "execution_count": null,
   "id": "56753819-d59f-43bf-8931-c41b6a17c5a0",
   "metadata": {},
   "outputs": [],
   "source": [
    "# Top 20 most similar products\n",
    "get_recommendations_cv(name_input, 20, cosine_sim_category_tags_cv, matrix_category_tags_cv)"
   ]
  },
  {
   "cell_type": "markdown",
   "id": "8c47193a-2ade-4c66-8faa-86a60cd57fba",
   "metadata": {},
   "source": [
    "#### 3.3.6 Recommending products based on a mixture of \"product_name\", \"brand_or_author\", \"main_category\" and \"categories_tags\""
   ]
  },
  {
   "cell_type": "code",
   "execution_count": null,
   "id": "006fd053-6083-49a7-ba4b-121839a5479d",
   "metadata": {},
   "outputs": [],
   "source": [
    "# Get the cosine similarity matrix for ensemble attribute\n",
    "result = get_cosine_sim_and_matrix_cv('ensemble')\n",
    "cosine_sim_ensemble_cv = result[0]\n",
    "matrix_ensemble_cv = result[1]"
   ]
  },
  {
   "cell_type": "code",
   "execution_count": null,
   "id": "9d9ba1fe-a58e-4cee-b506-a19a277cd6db",
   "metadata": {},
   "outputs": [],
   "source": [
    "# Getting the product name input from user\n",
    "name_input = getProductNameInput()"
   ]
  },
  {
   "cell_type": "code",
   "execution_count": null,
   "id": "7c36773b-850a-4575-a3f6-306f47729edb",
   "metadata": {},
   "outputs": [],
   "source": [
    "# Top 20 most similar products\n",
    "get_recommendations_cv(name_input, 20, cosine_sim_ensemble_cv, matrix_ensemble_cv)"
   ]
  },
  {
   "cell_type": "markdown",
   "id": "509ccf74",
   "metadata": {
    "toc-hr-collapsed": true
   },
   "source": [
    "# Collaborative Filtering Product Recommendation System\n",
    "Done by Tan Cherng Ming"
   ]
  },
  {
   "cell_type": "code",
   "execution_count": null,
   "id": "57479b5b",
   "metadata": {},
   "outputs": [],
   "source": [
    "#Read the json file with dataframe\n",
    "product_title = pd.read_json(r'datasets\\subset_meta_Electronics.json', lines=True)\n",
    "product_title = pd.DataFrame(product_title)\n",
    "product_title"
   ]
  },
  {
   "cell_type": "code",
   "execution_count": null,
   "id": "b4dc095c",
   "metadata": {},
   "outputs": [],
   "source": [
    "#Print column\n",
    "product_title.columns"
   ]
  },
  {
   "cell_type": "code",
   "execution_count": null,
   "id": "68122d1d",
   "metadata": {},
   "outputs": [],
   "source": [
    "#Drop unneccesary column\n",
    "product_title = product_title.drop(['category', 'tech1', 'description', 'fit', 'also_buy', 'tech2', 'brand', 'feature', 'rank', \n",
    "              'also_view', 'similar_item', 'date', 'price', 'imageURL','imageURLHighRes', 'details'], axis=1)\n",
    "product_title"
   ]
  },
  {
   "cell_type": "code",
   "execution_count": null,
   "id": "c34b30f4",
   "metadata": {},
   "outputs": [],
   "source": [
    "#Check for missing values\n",
    "print('Number of missing values across columns:')\n",
    "print(product_title.isnull().sum())"
   ]
  },
  {
   "cell_type": "code",
   "execution_count": null,
   "id": "14328a88",
   "metadata": {},
   "outputs": [],
   "source": [
    "#Rename the column from default column name\n",
    "product_title.rename(columns = {'asin':'productId'}, inplace = True)\n",
    "product_title"
   ]
  },
  {
   "cell_type": "code",
   "execution_count": null,
   "id": "216a6454",
   "metadata": {},
   "outputs": [],
   "source": [
    "#Read the second csv file and print the row\n",
    "user_product_ratings = pd.read_csv(r'C:\\Users\\Wilson Tan\\Downloads\\AI assignment\\ratings_Electronics.csv', names=['userId', 'productId','Rating','timestamp'])\n",
    "user_product_ratings.head()"
   ]
  },
  {
   "cell_type": "code",
   "execution_count": null,
   "id": "699f7a8b",
   "metadata": {},
   "outputs": [],
   "source": [
    "#Shape of the data\n",
    "user_product_ratings.shape"
   ]
  },
  {
   "cell_type": "code",
   "execution_count": null,
   "id": "b8510243",
   "metadata": {},
   "outputs": [],
   "source": [
    "#Extract 100000 data from the dataset(7824482)\n",
    "user_product_ratings = user_product_ratings.iloc[:100000,0:]"
   ]
  },
  {
   "cell_type": "code",
   "execution_count": null,
   "id": "6707ef1a",
   "metadata": {},
   "outputs": [],
   "source": [
    "#Drop the unnecessary column\n",
    "user_product_ratings = user_product_ratings.drop('timestamp', axis=1)"
   ]
  },
  {
   "cell_type": "code",
   "execution_count": null,
   "id": "3ca48ce0",
   "metadata": {},
   "outputs": [],
   "source": [
    "#Shape of the data\n",
    "user_product_ratings.shape"
   ]
  },
  {
   "cell_type": "code",
   "execution_count": null,
   "id": "6c34c75a",
   "metadata": {},
   "outputs": [],
   "source": [
    "user_product_ratings.info()"
   ]
  },
  {
   "cell_type": "code",
   "execution_count": null,
   "id": "140cfd5e",
   "metadata": {},
   "outputs": [],
   "source": [
    "#Check the datatypes\n",
    "user_product_ratings.dtypes"
   ]
  },
  {
   "cell_type": "code",
   "execution_count": null,
   "id": "ebaef656",
   "metadata": {},
   "outputs": [],
   "source": [
    "#Check for missing values\n",
    "print('Number of missing values across columns:')\n",
    "print(user_product_ratings.isnull().sum())"
   ]
  },
  {
   "cell_type": "code",
   "execution_count": null,
   "id": "235af710",
   "metadata": {},
   "outputs": [],
   "source": [
    "# Check with the ratings distribution\n",
    "with sns.axes_style('white'):\n",
    "    g = sns.catplot(x =\"Rating\", data = user_product_ratings, kind ='count')\n",
    "    g.set_ylabels(\"Total number of ratings\")"
   ]
  },
  {
   "cell_type": "code",
   "execution_count": null,
   "id": "9faf6b33",
   "metadata": {},
   "outputs": [],
   "source": [
    "#Print the number of ratings, user and product\n",
    "print(\"Total number of ratings  :\",user_product_ratings.shape[0])\n",
    "print(\"Total number of user     :\", len(np.unique(user_product_ratings.userId)))\n",
    "print(\"Total number of products :\", len(np.unique(user_product_ratings.productId)))"
   ]
  },
  {
   "cell_type": "code",
   "execution_count": null,
   "id": "a87930e4",
   "metadata": {},
   "outputs": [],
   "source": [
    "#Merge two files based on productId then drop the duplication\n",
    "product_ratings = pd.merge(user_product_ratings, product_title, on='productId').drop_duplicates()\n",
    "product_ratings"
   ]
  },
  {
   "cell_type": "code",
   "execution_count": null,
   "id": "ebf92e4b",
   "metadata": {},
   "outputs": [],
   "source": [
    "#Check for missing values\n",
    "print('Number of missing values across columns:')\n",
    "print(product_ratings.isnull().sum())"
   ]
  },
  {
   "cell_type": "code",
   "execution_count": null,
   "id": "d6cbc88e",
   "metadata": {},
   "outputs": [],
   "source": [
    "#Show the product with the highest number of rating\n",
    "total_rate_of_a_product = product_ratings.groupby(by='title')['Rating'].count().sort_values(ascending=False)\n",
    "total_rate_of_a_product.head(10)"
   ]
  },
  {
   "cell_type": "code",
   "execution_count": null,
   "id": "f4ac8dac",
   "metadata": {},
   "outputs": [],
   "source": [
    "#Summarize data to userID and title with Pivot Table\n",
    "user_product_matrix = pd.pivot_table(product_ratings, index='userId', columns='title', values ='Rating').fillna(0)\n",
    "user_product_matrix"
   ]
  },
  {
   "cell_type": "markdown",
   "id": "1b3707b4",
   "metadata": {},
   "source": [
    "## Item-based Filtering"
   ]
  },
  {
   "cell_type": "code",
   "execution_count": null,
   "id": "4bf38a29",
   "metadata": {},
   "outputs": [],
   "source": [
    "#One item is selected\n",
    "users_ratings = user_product_matrix['Koss Porta Pro On Ear Headphones with Case, Black / Silver']\n",
    "users_ratings.head(10)"
   ]
  },
  {
   "cell_type": "code",
   "execution_count": null,
   "id": "e4f430c4",
   "metadata": {},
   "outputs": [],
   "source": [
    "#Calculate the correlation\n",
    "similar_product = user_product_matrix.corrwith(users_ratings)\n",
    "similar_product"
   ]
  },
  {
   "cell_type": "code",
   "execution_count": null,
   "id": "a52c8d00",
   "metadata": {},
   "outputs": [],
   "source": [
    "# Create a dataframe\n",
    "similar_product = pd.DataFrame(similar_product, columns = ['Correlation'])\n",
    "similar_product.head(10)"
   ]
  },
  {
   "cell_type": "code",
   "execution_count": null,
   "id": "91ef8a4a",
   "metadata": {},
   "outputs": [],
   "source": [
    "#Sort the product with correlation descendingly\n",
    "similar_product.sort_values(by = 'Correlation', ascending = False).head(10)"
   ]
  },
  {
   "cell_type": "code",
   "execution_count": null,
   "id": "1454d7ac",
   "metadata": {},
   "outputs": [],
   "source": [
    "#Count number of rating for the title\n",
    "df_rating = pd.DataFrame(product_ratings.groupby('title')['Rating'].count())"
   ]
  },
  {
   "cell_type": "code",
   "execution_count": null,
   "id": "09f1fbd5",
   "metadata": {},
   "outputs": [],
   "source": [
    "recommend_product = similar_product.join(df_rating['Rating']).sort_values(by = 'Correlation', ascending = False)\n",
    "recommend_product"
   ]
  },
  {
   "cell_type": "code",
   "execution_count": null,
   "id": "80b19d4c",
   "metadata": {},
   "outputs": [],
   "source": [
    "# Recommend top 20 product that has > 50 ratings\n",
    "recommend_product = recommend_product[recommend_product['Rating'] > 50].sort_values(by = 'Correlation', ascending = False)\n",
    "recommend_product.head(20)"
   ]
  },
  {
   "cell_type": "code",
   "execution_count": null,
   "id": "263a7b5e",
   "metadata": {},
   "outputs": [],
   "source": [
    "#Extract 20 product and make the recommended items a list\n",
    "recommend_product = recommend_product.iloc[1:21]\n",
    "products = recommend_product.index.values.tolist()\n",
    "products"
   ]
  },
  {
   "cell_type": "markdown",
   "id": "b97cfcbe",
   "metadata": {},
   "source": [
    "## User-based Filtering"
   ]
  },
  {
   "cell_type": "code",
   "execution_count": null,
   "id": "98bfbd1e",
   "metadata": {},
   "outputs": [],
   "source": [
    "#Transpose the pivot table\n",
    "product_user_matrix = user_product_matrix.transpose()\n",
    "product_user_matrix.head()"
   ]
  },
  {
   "cell_type": "code",
   "execution_count": null,
   "id": "0e92cbd6",
   "metadata": {},
   "outputs": [],
   "source": [
    "# One user is selected, A2BGZ52M908MJY\n",
    "user_title_ratings = product_user_matrix['A231WM2Z2JL0U3']\n",
    "user_title_ratings.head(5)"
   ]
  },
  {
   "cell_type": "code",
   "execution_count": null,
   "id": "ac352e34",
   "metadata": {},
   "outputs": [],
   "source": [
    "#Calculate the correlation\n",
    "similar_users = product_user_matrix.corrwith(user_title_ratings)\n",
    "\n",
    "# Create a dataframe\n",
    "similar_users = pd.DataFrame(similar_users, columns = ['Correlation'])\n",
    "similar_users.head(10)"
   ]
  },
  {
   "cell_type": "code",
   "execution_count": null,
   "id": "74f35253",
   "metadata": {},
   "outputs": [],
   "source": [
    "#Sort the user with correlation descendingly\n",
    "most_similar_users = similar_users.sort_values(by = 'Correlation', ascending = False).iloc[1:21]\n",
    "most_similar_users"
   ]
  },
  {
   "cell_type": "code",
   "execution_count": null,
   "id": "2398c1ce",
   "metadata": {},
   "outputs": [],
   "source": [
    "#Extract the first most similar user \n",
    "user_list = most_similar_users.index.values.tolist()\n",
    "user_list[0]"
   ]
  },
  {
   "cell_type": "code",
   "execution_count": null,
   "id": "8b9390ad",
   "metadata": {},
   "outputs": [],
   "source": [
    "#Product that are rated the user\n",
    "recommendation = product_ratings[product_ratings['userId'] == user_list[0]]\n",
    "recommendation"
   ]
  },
  {
   "cell_type": "code",
   "execution_count": null,
   "id": "8eb275b5",
   "metadata": {},
   "outputs": [],
   "source": [
    "#DataFrame slicing : product with the rating > 3.0\n",
    "recommendation = product_ratings.loc[(product_ratings['userId'] == user_list[0]) & \n",
    "                                   (product_ratings['Rating'] > 3), \n",
    "                                   ['title', 'Rating']]\n",
    "recommendation"
   ]
  },
  {
   "cell_type": "code",
   "execution_count": null,
   "id": "392615bf",
   "metadata": {},
   "outputs": [],
   "source": [
    "recommendation = recommendation.set_index('title')\n",
    "recommendation_list = recommendation.index.values.tolist()\n",
    "print('List to recommend')\n",
    "recommendation_list"
   ]
  }
 ],
 "metadata": {
  "kernelspec": {
   "display_name": "Python 3 (ipykernel)",
   "language": "python",
   "name": "python3"
  },
  "language_info": {
   "codemirror_mode": {
    "name": "ipython",
    "version": 3
   },
   "file_extension": ".py",
   "mimetype": "text/x-python",
   "name": "python",
   "nbconvert_exporter": "python",
   "pygments_lexer": "ipython3",
   "version": "3.10.9"
  }
 },
 "nbformat": 4,
 "nbformat_minor": 5
}
