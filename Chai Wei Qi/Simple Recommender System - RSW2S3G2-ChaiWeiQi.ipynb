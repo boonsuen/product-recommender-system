{
 "cells": [
  {
   "cell_type": "markdown",
   "id": "3cc87319",
   "metadata": {},
   "source": [
    "# Simple Recommender System - Product Recommender"
   ]
  },
  {
   "cell_type": "markdown",
   "id": "f63be384",
   "metadata": {},
   "source": [
    "## 1. Importing Libraries"
   ]
  },
  {
   "cell_type": "code",
   "execution_count": null,
   "id": "843de5fa",
   "metadata": {},
   "outputs": [],
   "source": [
    "# Import library to be used in the project\n",
    "import pandas as pd\n",
    "import html\n",
    "import warnings\n",
    "warnings.filterwarnings('ignore')"
   ]
  },
  {
   "cell_type": "markdown",
   "id": "aa978e92",
   "metadata": {},
   "source": [
    "## 2. File Reading and Features Engineering: products"
   ]
  },
  {
   "cell_type": "code",
   "execution_count": null,
   "id": "8c12decc",
   "metadata": {
    "scrolled": true
   },
   "outputs": [],
   "source": [
    "# Read the electronic products file\n",
    "products_dataset_path = '../dataset/electronic_products.json'\n",
    "products = pd.read_json(products_dataset_path, lines=True)\n",
    "\n",
    "# Output the first 10 rows\n",
    "products.head(10)"
   ]
  },
  {
   "cell_type": "code",
   "execution_count": null,
   "id": "3c7dd961",
   "metadata": {},
   "outputs": [],
   "source": [
    "print(products.shape)\n",
    "# output: (rows, columns)"
   ]
  },
  {
   "cell_type": "code",
   "execution_count": null,
   "id": "82e3e17d",
   "metadata": {
    "scrolled": true
   },
   "outputs": [],
   "source": [
    "# retrieving column name\n",
    "products.columns"
   ]
  },
  {
   "cell_type": "markdown",
   "id": "8b72dae6",
   "metadata": {},
   "source": [
    "### 2.1 General Cleansing\n",
    "\n",
    "#### 2.1.1 Drop Unnecessary columns"
   ]
  },
  {
   "cell_type": "code",
   "execution_count": null,
   "id": "4f1bac4b",
   "metadata": {},
   "outputs": [],
   "source": [
    "# keep: asin, title, brand, main_cat, and price (some columns are for filtering usage)\n",
    "products = products.drop(columns=['category', 'tech1', 'description', 'fit', 'also_buy', 'tech2',\n",
    "       'feature', 'rank', 'also_view', 'similar_item', 'date', 'imageURL', 'imageURLHighRes', 'details'], errors='ignore')\n",
    "\n",
    "products.columns"
   ]
  },
  {
   "cell_type": "code",
   "execution_count": null,
   "id": "741719b7",
   "metadata": {},
   "outputs": [],
   "source": [
    "products = products[['asin', 'title', 'brand', 'price', 'main_cat']]\n",
    "products.columns = ['product_id', 'product_name', 'brand_or_author', 'price', 'main_category']"
   ]
  },
  {
   "cell_type": "code",
   "execution_count": null,
   "id": "4ab6deee",
   "metadata": {
    "scrolled": false
   },
   "outputs": [],
   "source": [
    "products.head(10)"
   ]
  },
  {
   "cell_type": "markdown",
   "id": "49d37f0b",
   "metadata": {},
   "source": [
    "#### 2.1.2 Remove Duplicates"
   ]
  },
  {
   "cell_type": "code",
   "execution_count": null,
   "id": "067bac0a",
   "metadata": {},
   "outputs": [],
   "source": [
    "products.shape"
   ]
  },
  {
   "cell_type": "code",
   "execution_count": null,
   "id": "5fa5d0b5",
   "metadata": {},
   "outputs": [],
   "source": [
    "products.duplicated().sum()"
   ]
  },
  {
   "cell_type": "code",
   "execution_count": null,
   "id": "65890157",
   "metadata": {},
   "outputs": [],
   "source": [
    "products = products.drop_duplicates()\n",
    "\n",
    "products.shape"
   ]
  },
  {
   "cell_type": "markdown",
   "id": "ed077078",
   "metadata": {},
   "source": [
    "#### 2.1.3 Format Strings"
   ]
  },
  {
   "cell_type": "code",
   "execution_count": null,
   "id": "6c3cfca8",
   "metadata": {},
   "outputs": [],
   "source": [
    "# Defining text cleaning function\n",
    "\n",
    "def text_cleaning(text):\n",
    "    # 1. convert any HTML entities in the text to their corresponding characters\n",
    "    # e.g. &amp; to &, &quot; to \", &reg; to ®\n",
    "    text = html.unescape(text)\n",
    "    \n",
    "    # 2. convert to lower case\n",
    "    return text.lower()\n",
    "\n",
    "text = \"&amp; &quot &reg;\"\n",
    "cleaned_text = text_cleaning(text)\n",
    "print(cleaned_text)"
   ]
  },
  {
   "cell_type": "code",
   "execution_count": null,
   "id": "c7b87977",
   "metadata": {},
   "outputs": [],
   "source": [
    "# List of columns to be cleaned\n",
    "cols_to_clean = ['product_name', 'brand_or_author', 'price', 'main_category']\n",
    "\n",
    "# Apply the text cleaning function to each column\n",
    "for col in cols_to_clean:\n",
    "    products[col] = products[col].apply(lambda x: text_cleaning(x))"
   ]
  },
  {
   "cell_type": "code",
   "execution_count": null,
   "id": "48b15de5",
   "metadata": {},
   "outputs": [],
   "source": [
    "products"
   ]
  },
  {
   "cell_type": "markdown",
   "id": "ebaef18b",
   "metadata": {},
   "source": [
    "### 2.2 Cleaning 'main_category' column"
   ]
  },
  {
   "cell_type": "code",
   "execution_count": null,
   "id": "5edac691",
   "metadata": {
    "scrolled": false
   },
   "outputs": [],
   "source": [
    "main_category_df = products.groupby('main_category').size().reset_index(name='count')\n",
    "main_category_df"
   ]
  },
  {
   "cell_type": "code",
   "execution_count": null,
   "id": "311aa791",
   "metadata": {},
   "outputs": [],
   "source": [
    "# The four image HTML elements are actually belongs to 'amazon fashion'\n",
    "for i in (main_category_df.loc[0:3, 'main_category']):\n",
    "    print(i)\n",
    "\n",
    "# There are total 169 products for amazon fashion\n",
    "total_af = {'main_category': 'Total', 'count': len(products.loc[products['main_category'].str.contains('amazon fashion')])}\n",
    "main_category_df.loc[main_category_df['main_category'].str.contains('amazon fashion')].append(total_af, ignore_index=True)"
   ]
  },
  {
   "cell_type": "code",
   "execution_count": null,
   "id": "f57064fb",
   "metadata": {
    "scrolled": true
   },
   "outputs": [],
   "source": [
    "# assign the four image HTML elements to 'amazon fashion' in main_category_df data frame\n",
    "main_category_df.loc[main_category_df['main_category'].str.contains('amazon fashion'), 'main_category'] = 'amazon fashion'\n",
    "\n",
    "main_category_df.groupby('main_category').sum()"
   ]
  },
  {
   "cell_type": "code",
   "execution_count": null,
   "id": "e2311fd0",
   "metadata": {},
   "outputs": [],
   "source": [
    "# assign the four image HTML elements to 'amazon fashion' in products data frame\n",
    "products.loc[products['main_category'].str.contains('amazon fashion'), 'main_category'] = 'amazon fashion'\n",
    "\n",
    "products.groupby('main_category').size().reset_index(name='count')"
   ]
  },
  {
   "cell_type": "markdown",
   "id": "b56e81ca",
   "metadata": {},
   "source": [
    "### 2.3 Cleaning 'brand_or_author' column"
   ]
  },
  {
   "cell_type": "code",
   "execution_count": null,
   "id": "2ca95d2c",
   "metadata": {
    "scrolled": true
   },
   "outputs": [],
   "source": [
    "# The visit amazon's .... page pattern is actually the author.\n",
    "pattern = \"^visit amazon's (.*) page$\"\n",
    "mask = products['brand_or_author'].str.contains(pattern)\n",
    "selected_columns = ['brand_or_author', 'main_category']\n",
    "visit_amazon_pattern = products.loc[mask, selected_columns]\n",
    "\n",
    "visit_amazon_pattern"
   ]
  },
  {
   "cell_type": "code",
   "execution_count": null,
   "id": "c512d39c",
   "metadata": {
    "scrolled": true
   },
   "outputs": [],
   "source": [
    "visit_amazon_pattern.groupby('main_category').size().reset_index(name='count')"
   ]
  },
  {
   "cell_type": "code",
   "execution_count": null,
   "id": "5c4a9a4f",
   "metadata": {},
   "outputs": [],
   "source": [
    "# Clean the brand or author column\n",
    "def clean_author_string(author_string):\n",
    "    author_string = author_string.replace(\"visit amazon's \", \"\")\n",
    "    author_string = author_string.replace(\" page\", \"\")\n",
    "    return author_string\n",
    "\n",
    "products['brand_or_author'] = products['brand_or_author'].apply(clean_author_string)"
   ]
  },
  {
   "cell_type": "code",
   "execution_count": null,
   "id": "c10a642d",
   "metadata": {},
   "outputs": [],
   "source": [
    "# result\n",
    "products.head(10)"
   ]
  },
  {
   "cell_type": "markdown",
   "id": "66e30e50",
   "metadata": {},
   "source": [
    "### 2.4 Cleaning 'price' column"
   ]
  },
  {
   "cell_type": "code",
   "execution_count": null,
   "id": "c2610710",
   "metadata": {
    "scrolled": true
   },
   "outputs": [],
   "source": [
    "dirty_price_df = products[~products['price'].str.contains('^\\$')]\n",
    "\n",
    "dirty_price_type_df = dirty_price_df.groupby('price').size().reset_index(name='count')\n",
    "dirty_price_type_df"
   ]
  },
  {
   "cell_type": "code",
   "execution_count": null,
   "id": "03dd3699",
   "metadata": {
    "scrolled": false
   },
   "outputs": [],
   "source": [
    "for i in (dirty_price_type_df.loc[1:6, 'price']):\n",
    "    print(i)"
   ]
  },
  {
   "cell_type": "code",
   "execution_count": null,
   "id": "9f3244d2",
   "metadata": {},
   "outputs": [],
   "source": [
    "# Since all the dirty price data have no price information (are all css or html code)\n",
    "# We can set them all to '0'\n",
    "def clean_price_string (price_string):\n",
    "    if price_string.startswith('$'):\n",
    "        price_string = price_string.replace('$', '')\n",
    "    else:\n",
    "        price_string = '0'\n",
    "    try:\n",
    "        price_float = float(price_string)\n",
    "    except ValueError:\n",
    "        price_float = 0.0\n",
    "    return price_float\n",
    "\n",
    "products['price'] = products['price'].apply(clean_price_string)"
   ]
  },
  {
   "cell_type": "code",
   "execution_count": null,
   "id": "4b996b0c",
   "metadata": {
    "scrolled": false
   },
   "outputs": [],
   "source": [
    "# result\n",
    "products.head(10)"
   ]
  },
  {
   "cell_type": "markdown",
   "id": "e74d0a63",
   "metadata": {},
   "source": [
    "## 3. File Reading and Features Engineering: ratings"
   ]
  },
  {
   "cell_type": "code",
   "execution_count": null,
   "id": "31df694f",
   "metadata": {
    "scrolled": true
   },
   "outputs": [],
   "source": [
    "# Read the ratings file\n",
    "ratings_dataset_path = '../dataset/user_ratings.csv'\n",
    "\n",
    "ratings = pd.read_csv(ratings_dataset_path, names=['user_id', 'product_id','rating','timestamp'], index_col=False)"
   ]
  },
  {
   "cell_type": "code",
   "execution_count": null,
   "id": "40328d04",
   "metadata": {},
   "outputs": [],
   "source": [
    "# Output the first 10 rows\n",
    "ratings.head(10)"
   ]
  },
  {
   "cell_type": "code",
   "execution_count": null,
   "id": "7d4495c2",
   "metadata": {},
   "outputs": [],
   "source": [
    "ratings.columns"
   ]
  },
  {
   "cell_type": "markdown",
   "id": "4fa5f42a",
   "metadata": {},
   "source": [
    "### 3.1 Features Engineering\n",
    "\n",
    "#### 3.1.1 Check Duplicates ( no duplicated rows )"
   ]
  },
  {
   "cell_type": "code",
   "execution_count": null,
   "id": "0986793f",
   "metadata": {
    "scrolled": true
   },
   "outputs": [],
   "source": [
    "ratings.shape"
   ]
  },
  {
   "cell_type": "code",
   "execution_count": null,
   "id": "d91d4314",
   "metadata": {},
   "outputs": [],
   "source": [
    "# must check duplicates first before dropping the columns\n",
    "# because all the four columns, especially the timestamp, are determining the duplication\n",
    "\n",
    "ratings.duplicated().sum()\n",
    "\n",
    "# no need to drop duplicates\n",
    "# no need: ratings = ratings.drop_duplicates()"
   ]
  },
  {
   "cell_type": "markdown",
   "id": "2bc4057e",
   "metadata": {},
   "source": [
    "#### 3.1.2 Drop Unnecessary Columns"
   ]
  },
  {
   "cell_type": "code",
   "execution_count": null,
   "id": "e16a4f32",
   "metadata": {
    "scrolled": true
   },
   "outputs": [],
   "source": [
    "# keep: product_id and rating  (each rating is valuable only)\n",
    "# drop: user_id and timestamp\n",
    "ratings = ratings.drop(columns=['user_id', 'timestamp'], errors='ignore')\n",
    "\n",
    "ratings.columns"
   ]
  },
  {
   "cell_type": "code",
   "execution_count": null,
   "id": "faa1d7ae",
   "metadata": {},
   "outputs": [],
   "source": [
    "ratings.head(10)"
   ]
  },
  {
   "cell_type": "markdown",
   "id": "ca2f8c6e",
   "metadata": {},
   "source": [
    "#### 3.1.3 Create  'rating_average' and 'rating_count' from 'rating'"
   ]
  },
  {
   "cell_type": "code",
   "execution_count": null,
   "id": "389995bc",
   "metadata": {
    "scrolled": true
   },
   "outputs": [],
   "source": [
    "# Calculate the average rating and count of ratings for each product_id\n",
    "ratings = ratings.groupby('product_id').agg(rating_average=('rating', 'mean'), rating_count=('rating', 'count'))\n",
    "\n",
    "# use (0,1,2,3,4,5,6 as row indication instead of product_id)\n",
    "ratings = ratings.reset_index()"
   ]
  },
  {
   "cell_type": "code",
   "execution_count": null,
   "id": "0e0ed1f3",
   "metadata": {},
   "outputs": [],
   "source": [
    "ratings.head(10)"
   ]
  },
  {
   "cell_type": "code",
   "execution_count": null,
   "id": "8170fccf",
   "metadata": {},
   "outputs": [],
   "source": [
    "ratings.shape"
   ]
  },
  {
   "cell_type": "code",
   "execution_count": null,
   "id": "a6257187",
   "metadata": {
    "scrolled": true
   },
   "outputs": [],
   "source": [
    "# Top 10 products with the highest rating_count first then highest rating_average\n",
    "ratings.sort_values(by=['rating_count','rating_average'], ascending=[False, False]).head(10)"
   ]
  },
  {
   "cell_type": "markdown",
   "id": "c39b8ce1",
   "metadata": {},
   "source": [
    "## 4. Merge 'products' and 'ratings' into 'products_merge'"
   ]
  },
  {
   "cell_type": "code",
   "execution_count": null,
   "id": "496aeb12",
   "metadata": {
    "scrolled": true
   },
   "outputs": [],
   "source": [
    "# Merge the products and ratings dataframes (keep all the products records)\n",
    "products_merge = pd.merge(products, ratings, on='product_id', how='left')\n",
    "\n",
    "# Output the first 10 rows\n",
    "products_merge.head(10)"
   ]
  },
  {
   "cell_type": "code",
   "execution_count": null,
   "id": "e821ca9a",
   "metadata": {},
   "outputs": [],
   "source": [
    "products_merge.shape"
   ]
  },
  {
   "cell_type": "markdown",
   "id": "e1635ba2",
   "metadata": {},
   "source": [
    "### 4.1 Replace NaN"
   ]
  },
  {
   "cell_type": "code",
   "execution_count": null,
   "id": "779a7c03",
   "metadata": {
    "scrolled": false
   },
   "outputs": [],
   "source": [
    "products_merge.isnull().sum()"
   ]
  },
  {
   "cell_type": "code",
   "execution_count": null,
   "id": "ea7f8cf4",
   "metadata": {
    "scrolled": false
   },
   "outputs": [],
   "source": [
    "products_merge[products_merge['main_category'] == 'all electronics'].count()"
   ]
  },
  {
   "cell_type": "code",
   "execution_count": null,
   "id": "81a11ff6",
   "metadata": {},
   "outputs": [],
   "source": [
    "products_merge[products_merge['main_category'] == 'all electronics'].isnull().sum()"
   ]
  },
  {
   "cell_type": "code",
   "execution_count": null,
   "id": "fe1456e9",
   "metadata": {},
   "outputs": [],
   "source": [
    "products_merge.fillna({'rating_average': 0.0, 'rating_count': 0}, inplace=True)"
   ]
  },
  {
   "cell_type": "code",
   "execution_count": null,
   "id": "6488592a",
   "metadata": {
    "scrolled": true
   },
   "outputs": [],
   "source": [
    "products_merge.isnull().sum()"
   ]
  },
  {
   "cell_type": "markdown",
   "id": "a490e5c3",
   "metadata": {},
   "source": [
    "## 5. Simple Recommender System"
   ]
  },
  {
   "cell_type": "markdown",
   "id": "52ac23b4",
   "metadata": {},
   "source": [
    "### 5.1 Simple Rating Sort\n",
    "\n",
    "▪ Sorting 'products_merge' by multiple columns.\n",
    "\n",
    "▪ Issue: Even if the **rating_count** for a product is very high, but it can have a lower **rating_average**."
   ]
  },
  {
   "cell_type": "code",
   "execution_count": null,
   "id": "90c1376e",
   "metadata": {
    "scrolled": false
   },
   "outputs": [],
   "source": [
    "# Top 10 products with the highest rating_count first then highest rating_average\n",
    "products_merge.sort_values(by=['rating_count','rating_average'], ascending=[False, False]).head(20)"
   ]
  },
  {
   "cell_type": "markdown",
   "id": "f3423438",
   "metadata": {},
   "source": [
    "### 5.2 Weighted Rating\n",
    "\n",
    "▪ A *weighted rating* that takes into account the **rating_average** and the **rating_count** it has accumulated.\n",
    "\n",
    "▪ We can calculate the Weighted Rating Score into a new 'score' column.\n",
    "\n",
    "▪ The formula of weighted rating is as follows:\n",
    "\n",
    "<img src=\"weighted_rating.png\" width=\"600\">\n",
    "\n",
    "\\>>> **v** is the number of rating for the product (represented by **rating_count**)\n",
    "\n",
    "\\>>> **m** is the **minimum rating count** required to be listed in the chart (to be calculated)\n",
    "\n",
    "\\>>> **R** is the average rating of the product (represented by **rating_average**)\n",
    "\n",
    "\\>>> **C** is the **mean of rating average** across the whole dataframe (to be calculated)"
   ]
  },
  {
   "cell_type": "code",
   "execution_count": null,
   "id": "e5778632",
   "metadata": {
    "scrolled": false
   },
   "outputs": [],
   "source": [
    "# describe() - can analyse the dataframe overallly\n",
    "# C can be viewed using describe().\n",
    "\n",
    "products_merge.describe()\n",
    "\n",
    "# From the output:\n",
    "# get C: mean of **rating_average** of product"
   ]
  },
  {
   "cell_type": "code",
   "execution_count": null,
   "id": "6e3b8d69",
   "metadata": {},
   "outputs": [],
   "source": [
    "# C, the mean of rating average across the whole dataframe\n",
    "C = products_merge['rating_average'].mean()\n",
    "C"
   ]
  },
  {
   "cell_type": "code",
   "execution_count": null,
   "id": "24760b84",
   "metadata": {
    "scrolled": true
   },
   "outputs": [],
   "source": [
    "# m, minimum rating count required to be listed in the chart\n",
    "\n",
    "# consider the 90th percentile.\n",
    "\n",
    "# for a product to be recommended, it must have more votes than at least 90% of the products.\n",
    "\n",
    "m = products_merge['rating_count'].quantile(0.90) \n",
    "m"
   ]
  },
  {
   "cell_type": "code",
   "execution_count": null,
   "id": "d4ba0280",
   "metadata": {},
   "outputs": [],
   "source": [
    "q_products = products_merge.copy().loc[products_merge['rating_count'] >= m]\n",
    "\n",
    "q_products"
   ]
  },
  {
   "cell_type": "code",
   "execution_count": null,
   "id": "092dbc57",
   "metadata": {},
   "outputs": [],
   "source": [
    "# Function that computes the weighted rating of each product\n",
    "def weighted_rating(x, m = m, C = C):\n",
    "    \n",
    "    v = x['rating_count']\n",
    "    R = x['rating_average']\n",
    "    \n",
    "    # Calculation based on the IMDB formula\n",
    "    return (v / (v + m) * R) + (m / (m + v) * C)"
   ]
  },
  {
   "cell_type": "code",
   "execution_count": null,
   "id": "efdf647d",
   "metadata": {},
   "outputs": [],
   "source": [
    "q_products['score'] = q_products.apply(weighted_rating, axis=1)\n",
    "\n",
    "q_products.head(20)"
   ]
  },
  {
   "cell_type": "markdown",
   "id": "b7490afd",
   "metadata": {},
   "source": [
    "### 5.3 Result using Weighted Rating"
   ]
  },
  {
   "cell_type": "markdown",
   "id": "704c9b72",
   "metadata": {},
   "source": [
    "#### 5.3.1 Recommending Top 20 Products\n",
    "\n",
    "▪ Sort q_proucts in descending order based on the score feature column.\n",
    "\n",
    "▪ Output the product_name, main_category, brand_or_author, price, rating_average, rating_count, and weighted rating (score) of the top 20 products."
   ]
  },
  {
   "cell_type": "code",
   "execution_count": null,
   "id": "fff69593",
   "metadata": {
    "scrolled": true
   },
   "outputs": [],
   "source": [
    "# Sort products based on 'score' and recommend the top 20 products\n",
    "top_20_proucts = q_products.sort_values('score', ascending = False).head(20).reset_index()\n",
    "\n",
    "columns = ['product_id', 'product_name', 'main_category','brand_or_author', 'price',  'rating_average', 'rating_count', 'score']\n",
    "top_20_proucts = top_20_proucts [columns]\n",
    "\n",
    "top_20_proucts.index = top_20_proucts.index + 1\n",
    "\n",
    "top_20_proucts"
   ]
  },
  {
   "cell_type": "markdown",
   "id": "92f2b63c",
   "metadata": {},
   "source": [
    "#### 5.3.2 Recommending Top 20 Products According to product_name"
   ]
  },
  {
   "cell_type": "code",
   "execution_count": null,
   "id": "6ede5b91",
   "metadata": {
    "scrolled": false
   },
   "outputs": [],
   "source": [
    "# E.g. speaker\n",
    "product_name = input(\"Enter the product name : \")"
   ]
  },
  {
   "cell_type": "code",
   "execution_count": null,
   "id": "817c7378",
   "metadata": {
    "scrolled": true
   },
   "outputs": [],
   "source": [
    "top_20_product_name = q_products[q_products['product_name'].str.contains(product_name.lower())]\n",
    "\n",
    "top_20_product_name = top_20_product_name.sort_values('score', ascending = False).reset_index()[columns]\n",
    "top_20_product_name.index = top_20_product_name.index + 1\n",
    "\n",
    "top_20_product_name.head(20)"
   ]
  },
  {
   "cell_type": "markdown",
   "id": "69f694c2",
   "metadata": {},
   "source": [
    "#### 5.3.3 Recommending Top 20 Products According to main_category"
   ]
  },
  {
   "cell_type": "code",
   "execution_count": null,
   "id": "48e13884",
   "metadata": {
    "scrolled": false
   },
   "outputs": [],
   "source": [
    "# e.g camera\n",
    "main_category = input(\"Enter the main category : \")"
   ]
  },
  {
   "cell_type": "code",
   "execution_count": null,
   "id": "f7dc341c",
   "metadata": {},
   "outputs": [],
   "source": [
    "top_20_main_category = q_products[q_products['main_category'].str.contains(main_category.lower())]\n",
    "\n",
    "top_20_main_category = top_20_main_category [columns].sort_values('score', ascending = False).reset_index()\n",
    "top_20_main_category.index = top_20_main_category.index + 1\n",
    "\n",
    "top_20_main_category.head(20)"
   ]
  },
  {
   "cell_type": "markdown",
   "id": "b55ca036",
   "metadata": {},
   "source": [
    "#### 5.3.4 Recommending Top 20 Products According to brand_or_author"
   ]
  },
  {
   "cell_type": "code",
   "execution_count": null,
   "id": "2c8e79b3",
   "metadata": {
    "scrolled": true
   },
   "outputs": [],
   "source": [
    "# e.g. microsoft\n",
    "brand_or_author = input(\"Enter the brand or author : \")"
   ]
  },
  {
   "cell_type": "code",
   "execution_count": null,
   "id": "d6cf8071",
   "metadata": {},
   "outputs": [],
   "source": [
    "top_20_brand_or_author = q_products[q_products['brand_or_author'].str.contains(brand_or_author.lower())]\n",
    "\n",
    "top_20_brand_or_author = top_20_brand_or_author [columns].sort_values('score', ascending = False).reset_index()\n",
    "top_20_brand_or_author.index = top_20_brand_or_author.index + 1\n",
    "\n",
    "top_20_brand_or_author.head(20)"
   ]
  },
  {
   "cell_type": "markdown",
   "id": "eda3837a",
   "metadata": {},
   "source": [
    "#### 5.3.5 Recommending Top 20 Products According to price range"
   ]
  },
  {
   "cell_type": "code",
   "execution_count": null,
   "id": "49658db3",
   "metadata": {},
   "outputs": [],
   "source": [
    "# e.g. 10, 100\n",
    "min_price = int(input(\"Enter the minimum price : \"))\n",
    "max_price = int(input(\"Enter the maximum price : \"))"
   ]
  },
  {
   "cell_type": "code",
   "execution_count": null,
   "id": "a03e9f32",
   "metadata": {},
   "outputs": [],
   "source": [
    "top_20_within_price_range = q_products[(q_products['price'] >= min_price) & (q_products['price'] <= max_price)]\n",
    "\n",
    "top_20_within_price_range = top_20_within_price_range [columns].sort_values('score', ascending = False).reset_index()\n",
    "top_20_within_price_range.index = top_20_within_price_range.index + 1\n",
    "\n",
    "top_20_within_price_range.head(20)"
   ]
  }
 ],
 "metadata": {
  "kernelspec": {
   "display_name": "Python 3 (ipykernel)",
   "language": "python",
   "name": "python3"
  },
  "language_info": {
   "codemirror_mode": {
    "name": "ipython",
    "version": 3
   },
   "file_extension": ".py",
   "mimetype": "text/x-python",
   "name": "python",
   "nbconvert_exporter": "python",
   "pygments_lexer": "ipython3",
   "version": "3.9.13"
  }
 },
 "nbformat": 4,
 "nbformat_minor": 5
}
